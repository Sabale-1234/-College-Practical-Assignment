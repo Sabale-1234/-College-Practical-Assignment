{
 "cells": [
  {
   "attachments": {},
   "cell_type": "markdown",
   "metadata": {},
   "source": []
  },
  {
   "cell_type": "code",
   "execution_count": 28,
   "metadata": {},
   "outputs": [],
   "source": [
    "import pandas as pd\n",
    "import numpy as np"
   ]
  },
  {
   "cell_type": "code",
   "execution_count": 22,
   "metadata": {},
   "outputs": [
    {
     "name": "stdout",
     "output_type": "stream",
     "text": [
      "    Rollno       Name Gender Branch  Attendence  Phy_marks  Che_marks  \\\n",
      "0        1   Mohammed      M   Comp        72.0       62.0       98.0   \n",
      "1        2    Reyansh      M     IT        58.0       62.0       83.0   \n",
      "2        3      Aarav      M     IT        57.0      -20.0      100.0   \n",
      "3        4     Atharv      M     IT        60.0       89.0       83.0   \n",
      "4        5     Vivaan      M   Comp        85.0       90.0        NaN   \n",
      "5        6      Advik      M   ENTC        94.0       99.0       84.0   \n",
      "6        7       Ansh      M   ENTC        98.0       88.0       95.0   \n",
      "7        8     Ishaan      M   ENTC        75.0       66.0       51.0   \n",
      "8        9      Dhruv      M   ENTC        63.0        NaN        NaN   \n",
      "9       10  Siddharth      M   ENTC        96.0       67.0       78.0   \n",
      "10      11     Vihaan      M   ENTC        82.0       54.0       70.0   \n",
      "11      12        NaN      M     IT        75.0       64.0       67.0   \n",
      "12      13     Aarush      M     IT        67.0       56.0       81.0   \n",
      "13      14        Leo      M     IT        98.0      -34.0       70.0   \n",
      "14      15     Maryam      F     IT        64.0       87.0       60.0   \n",
      "15      16     Saanvi      F   Comp        66.0       90.0       95.0   \n",
      "16      17    Zaranew      F   Comp        93.0       54.0        NaN   \n",
      "17      18      Inaya      F   Comp        74.0       67.0       93.0   \n",
      "18      19      Aarya      F   Comp        72.0       88.0       84.0   \n",
      "19      20        NaN      F   Comp        53.0       76.0       81.0   \n",
      "\n",
      "    EM1_marks  PPS_marks  SME_marks  Total Marks  Percentage  \n",
      "0        63.0       89.0       36.0          368        73.6  \n",
      "1        83.0       88.0       34.0          350        70.0  \n",
      "2         NaN       56.0       36.0          192        38.4  \n",
      "3        70.0       33.0       23.0          298        59.6  \n",
      "4        78.0       23.0       56.0          247        49.4  \n",
      "5       100.0       56.0       99.0          438        87.6  \n",
      "6        81.0       78.0       78.0          420        84.0  \n",
      "7        83.0      -99.0       76.0          192        38.4  \n",
      "8        97.0       56.0       55.0          208        41.6  \n",
      "9        95.0        NaN       98.0          338        67.6  \n",
      "10       88.0       55.0       56.0          323        64.6  \n",
      "11       71.0       66.0       87.0          355        71.0  \n",
      "12        NaN       90.0       55.0          282        56.4  \n",
      "13       94.0       77.0       66.0          273        54.6  \n",
      "14       90.0       65.0       90.0          392        78.4  \n",
      "15       67.0       99.0       77.0          428        85.6  \n",
      "16       75.0       90.0       65.0          284        56.8  \n",
      "17       93.0       87.0       99.0          439        87.8  \n",
      "18       81.0       80.0       45.0          378        75.6  \n",
      "19       93.0       65.0       23.0          338        67.6  \n"
     ]
    }
   ],
   "source": [
    "df=pd.read_csv(r'C:\\dsbda\\Academic-Performance-Dataset.csv')\n",
    "print(df)"
   ]
  },
  {
   "cell_type": "code",
   "execution_count": 35,
   "metadata": {},
   "outputs": [
    {
     "data": {
      "text/plain": [
       "2"
      ]
     },
     "execution_count": 35,
     "metadata": {},
     "output_type": "execute_result"
    }
   ],
   "source": [
    "df['EM1_marks'].isnull().sum()  "
   ]
  },
  {
   "cell_type": "code",
   "execution_count": 24,
   "metadata": {},
   "outputs": [
    {
     "data": {
      "text/plain": [
       "0    368\n",
       "1    350\n",
       "2    192\n",
       "3    298\n",
       "4    247\n",
       "Name: Total Marks, dtype: int64"
      ]
     },
     "execution_count": 24,
     "metadata": {},
     "output_type": "execute_result"
    }
   ],
   "source": [
    "mean_value=df['Total Marks'].mean()  \n",
    "df['Total Marks'].fillna(mean_value , inplace=False)  \n",
    "df['Total Marks'].head()   \n"
   ]
  },
  {
   "cell_type": "code",
   "execution_count": 34,
   "metadata": {},
   "outputs": [
    {
     "name": "stdout",
     "output_type": "stream",
     "text": [
      "101.75\n",
      "127.125\n",
      "534.125\n",
      "Outliers: Series([], Name: Total Marks, dtype: int64)\n"
     ]
    },
    {
     "data": {
      "text/plain": [
       "0     5.908083\n",
       "1     5.857933\n",
       "2     5.257495\n",
       "3     5.697093\n",
       "4     5.509388\n",
       "5     6.082219\n",
       "6     6.040255\n",
       "7     5.257495\n",
       "8     5.337538\n",
       "9     5.823046\n",
       "10    5.777652\n",
       "11    5.872118\n",
       "12    5.641907\n",
       "13    5.609472\n",
       "14    5.971262\n",
       "15    6.059123\n",
       "16    5.648974\n",
       "17    6.084499\n",
       "18    5.934894\n",
       "19    5.823046\n",
       "Name: Total Marks, dtype: float64"
      ]
     },
     "execution_count": 34,
     "metadata": {},
     "output_type": "execute_result"
    }
   ],
   "source": [
    "def detect_outliers_iqr(column):\n",
    "    # Calculate the first quartile (Q1) and third quartile (Q3)\n",
    "    q1 = column.quantile(0.25)\n",
    "    q3 = column.quantile(0.75)\n",
    "\n",
    "    # Calculate the IQR (Interquartile Range)\n",
    "    iqr = q3 - q1\n",
    "\n",
    "    # Define the lower and upper bounds for outliers\n",
    "    lower_bound = q1 - 1.5 * iqr\n",
    "    upper_bound = q3 + 1.5 * iqr\n",
    "\n",
    "    # Find the outliers\n",
    "    outliers = column[(column < lower_bound) | (column > upper_bound)] \n",
    "    print(iqr) \n",
    "    print(lower_bound) \n",
    "    print(upper_bound)  \n",
    "    return outliers\n",
    "\n",
    "outliers = detect_outliers_iqr(df['Total Marks'])  \n",
    "print(\"Outliers:\", outliers)\n",
    "\n",
    "# data transformation\n",
    "\n",
    "transformed_data=np.log(df['Total Marks']) \n",
    "transformed_data"
   ]
  }
 ],
 "metadata": {
  "kernelspec": {
   "display_name": "Python 3",
   "language": "python",
   "name": "python3"
  },
  "language_info": {
   "codemirror_mode": {
    "name": "ipython",
    "version": 3
   },
   "file_extension": ".py",
   "mimetype": "text/x-python",
   "name": "python",
   "nbconvert_exporter": "python",
   "pygments_lexer": "ipython3",
   "version": "3.11.0"
  },
  "orig_nbformat": 4
 },
 "nbformat": 4,
 "nbformat_minor": 2
}
